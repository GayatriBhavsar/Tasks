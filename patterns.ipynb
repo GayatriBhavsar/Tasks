{
 "cells": [
  {
   "cell_type": "code",
   "execution_count": null,
   "id": "1c3783d2",
   "metadata": {},
   "outputs": [],
   "source": [
    "*\n",
    "* *\n",
    "* * *\n",
    "* * * *"
   ]
  },
  {
   "cell_type": "code",
   "execution_count": 1,
   "id": "9afb2697",
   "metadata": {},
   "outputs": [
    {
     "name": "stdout",
     "output_type": "stream",
     "text": [
      "* \n",
      "* * \n",
      "* * * \n",
      "* * * * \n"
     ]
    }
   ],
   "source": [
    "n = 4\n",
    "for i in range(4):\n",
    "    for j in range(0,i +1):\n",
    "        print(\"*\", end = ' ')\n",
    "    print()"
   ]
  },
  {
   "cell_type": "code",
   "execution_count": 21,
   "id": "b74d82da",
   "metadata": {},
   "outputs": [
    {
     "name": "stdout",
     "output_type": "stream",
     "text": [
      "enter the number of rows: 5\n",
      "\n",
      "* \n",
      "* * \n",
      "* * * \n",
      "* * * * \n",
      "* * * * * \n"
     ]
    }
   ],
   "source": [
    "no_rows= int(input(\"enter the number of rows: \" ))\n",
    "for row in range(no_rows+1):\n",
    "    for column in range(0 , row):\n",
    "        print(\"*\", end= \" \")\n",
    "    print()\n",
    "\n",
    "              "
   ]
  },
  {
   "cell_type": "code",
   "execution_count": null,
   "id": "08269c87",
   "metadata": {},
   "outputs": [],
   "source": [
    "* * * * \n",
    "* * * \n",
    "* * \n",
    "*"
   ]
  },
  {
   "cell_type": "code",
   "execution_count": 4,
   "id": "94aded79",
   "metadata": {},
   "outputs": [
    {
     "name": "stdout",
     "output_type": "stream",
     "text": [
      "* * * * \n",
      "* * * \n",
      "* * \n",
      "* \n"
     ]
    }
   ],
   "source": [
    "n =4\n",
    "for i in range(n):\n",
    "    for j in range(0 ,n - i):\n",
    "        print(\"*\" , end = \" \")\n",
    "    print()\n",
    "    "
   ]
  },
  {
   "cell_type": "code",
   "execution_count": null,
   "id": "43f8eae7",
   "metadata": {},
   "outputs": [],
   "source": [
    "* * * *\n",
    "  * * *\n",
    "    * *\n",
    "      *"
   ]
  },
  {
   "cell_type": "code",
   "execution_count": 9,
   "id": "c5c53fe6",
   "metadata": {},
   "outputs": [
    {
     "ename": "SyntaxError",
     "evalue": "invalid syntax (4190160812.py, line 7)",
     "output_type": "error",
     "traceback": [
      "\u001b[1;36m  File \u001b[1;32m\"C:\\Users\\Mahesh\\AppData\\Local\\Temp\\ipykernel_2636\\4190160812.py\"\u001b[1;36m, line \u001b[1;32m7\u001b[0m\n\u001b[1;33m    for j in n\u001b[0m\n\u001b[1;37m               ^\u001b[0m\n\u001b[1;31mSyntaxError\u001b[0m\u001b[1;31m:\u001b[0m invalid syntax\n"
     ]
    }
   ],
   "source": [
    "n = 4\n",
    "for i  in n:\n",
    "    for j in i:\n",
    "        print(\"*\", end = \" \")\n",
    "    for j in n-1:\n",
    "        print(\" \"* len(\"*\") + \"*\" , end = \" \")\n",
    "    for j in n "
   ]
  },
  {
   "cell_type": "code",
   "execution_count": 10,
   "id": "06a5be87",
   "metadata": {},
   "outputs": [
    {
     "data": {
      "text/plain": [
       "list[range(1, 6)]"
      ]
     },
     "execution_count": 10,
     "metadata": {},
     "output_type": "execute_result"
    }
   ],
   "source": [
    "list[range(1,5+1)]"
   ]
  },
  {
   "cell_type": "code",
   "execution_count": 13,
   "id": "fba783d2",
   "metadata": {},
   "outputs": [
    {
     "data": {
      "text/plain": [
       "list[range(1, 6)]"
      ]
     },
     "execution_count": 13,
     "metadata": {},
     "output_type": "execute_result"
    }
   ],
   "source": [
    "list[range(1,6)]"
   ]
  },
  {
   "cell_type": "code",
   "execution_count": 14,
   "id": "617ff3c2",
   "metadata": {},
   "outputs": [
    {
     "data": {
      "text/plain": [
       "range(1, 6)"
      ]
     },
     "execution_count": 14,
     "metadata": {},
     "output_type": "execute_result"
    }
   ],
   "source": [
    "range(1,6)"
   ]
  },
  {
   "cell_type": "code",
   "execution_count": 17,
   "id": "b458b9ad",
   "metadata": {},
   "outputs": [
    {
     "name": "stdout",
     "output_type": "stream",
     "text": [
      "1\n",
      "2\n",
      "3\n",
      "4\n",
      "5\n"
     ]
    }
   ],
   "source": [
    "for i in range(1,6):\n",
    "    print(i)"
   ]
  },
  {
   "cell_type": "code",
   "execution_count": null,
   "id": "d24e867e",
   "metadata": {},
   "outputs": [],
   "source": [
    "*\n",
    "* *\n",
    "* * *\n",
    "* * * *"
   ]
  },
  {
   "cell_type": "code",
   "execution_count": 28,
   "id": "894ed17b",
   "metadata": {},
   "outputs": [
    {
     "name": "stdout",
     "output_type": "stream",
     "text": [
      "enter the number of row : 4\n",
      "* \n",
      "* * \n",
      "* * * \n",
      "* * * * \n"
     ]
    }
   ],
   "source": [
    "no_rows = int(input(\"enter the number of row : \"))\n",
    "for row in range(no_rows):\n",
    "    for colunm in range(row+1):\n",
    "        print(\"*\" , end = \" \")\n",
    "    print()"
   ]
  },
  {
   "cell_type": "code",
   "execution_count": 29,
   "id": "3511745d",
   "metadata": {},
   "outputs": [
    {
     "name": "stdout",
     "output_type": "stream",
     "text": [
      "enter the mber of ros: 5\n",
      "* \n",
      "* * \n",
      "* * * \n",
      "* * * * \n",
      "* * * * * \n"
     ]
    }
   ],
   "source": [
    "no_row = int(input(\"enter the mber of ros: \"))\n",
    "for row in range(no_row):\n",
    "    for column in range(row + 1):\n",
    "        print(\"*\" , end = \" \")\n",
    "    print()\n"
   ]
  },
  {
   "cell_type": "code",
   "execution_count": null,
   "id": "c85d363a",
   "metadata": {},
   "outputs": [],
   "source": [
    "* * * * \n",
    "* * * \n",
    "* * \n",
    "*"
   ]
  },
  {
   "cell_type": "code",
   "execution_count": 32,
   "id": "87e3a88f",
   "metadata": {},
   "outputs": [
    {
     "name": "stdout",
     "output_type": "stream",
     "text": [
      "enter the number of rows: 5\n",
      "* * * * * \n",
      "* * * * \n",
      "* * * \n",
      "* * \n",
      "* \n"
     ]
    }
   ],
   "source": [
    "no_row = int(input(\"enter the number of rows: \"))\n",
    "for row in range(no_row,0,-1):\n",
    "    for column in range(row):\n",
    "        print(\"*\", end= \" \")\n",
    "    print()"
   ]
  },
  {
   "cell_type": "code",
   "execution_count": 35,
   "id": "8ea6aa00",
   "metadata": {},
   "outputs": [
    {
     "name": "stdout",
     "output_type": "stream",
     "text": [
      "3\n",
      "2\n",
      "1\n"
     ]
    }
   ],
   "source": [
    "for i in range(3,0,-1):\n",
    "    print(i)"
   ]
  },
  {
   "cell_type": "code",
   "execution_count": 37,
   "id": "029931c1",
   "metadata": {},
   "outputs": [
    {
     "name": "stdout",
     "output_type": "stream",
     "text": [
      "enter the number of rows: 5\n",
      "* \n",
      "* * \n",
      "* * * \n",
      "* * * * \n",
      "* * * * * \n",
      "* * * * \n",
      "* * * \n",
      "* * \n",
      "* \n"
     ]
    }
   ],
   "source": [
    "no_row = int(input(\"enter the number of rows: \"))\n",
    "for row in range(no_row):\n",
    "    for column in range(row +1):\n",
    "        print(\"*\" , end = \" \")\n",
    "    print()\n",
    "for row in range(no_row-1,0, -1):\n",
    "    for column in range(row):\n",
    "        print(\"*\" , end = \" \")\n",
    "    print()"
   ]
  },
  {
   "cell_type": "code",
   "execution_count": 42,
   "id": "cc66be77",
   "metadata": {},
   "outputs": [
    {
     "name": "stdout",
     "output_type": "stream",
     "text": [
      "enter the number of rows: 5\n",
      "1 \n",
      "2 2 \n",
      "3 3 3 \n",
      "4 4 4 4 \n",
      "5 5 5 5 5 \n",
      "4 4 4 4 \n",
      "3 3 3 \n",
      "2 2 \n",
      "1 \n"
     ]
    }
   ],
   "source": [
    "no_row = int(input(\"enter the number of rows: \"))\n",
    "for row in range(1,no_row+1):\n",
    "    for column in range(1,row +1):\n",
    "        print(row, end = ' ')\n",
    "    print()\n",
    "for row in range(no_row-1 ,0 ,-1):\n",
    "    for column in range(row):\n",
    "        print(row, end = \" \")\n",
    "    print()"
   ]
  },
  {
   "cell_type": "code",
   "execution_count": 52,
   "id": "41e35a0f",
   "metadata": {},
   "outputs": [
    {
     "name": "stdout",
     "output_type": "stream",
     "text": [
      "enter the number of rows: 4\n",
      "1 \n",
      "1 2 \n",
      "1 2 3 \n",
      "1 2 3 4 \n"
     ]
    }
   ],
   "source": [
    "no_row = int(input(\"enter the number of rows: \"))\n",
    "for row in range(1, no_row+1):\n",
    "    for col in range(1, row+1):\n",
    "        print(col , end = \" \")\n",
    "    print()\n",
    "        "
   ]
  },
  {
   "cell_type": "code",
   "execution_count": 58,
   "id": "de23dfca",
   "metadata": {},
   "outputs": [
    {
     "name": "stdout",
     "output_type": "stream",
     "text": [
      "enter the number of rows: 5\n",
      "1 \n",
      "1 2 \n",
      "1 2 3 \n",
      "1 2 3 4 \n",
      "1 2 3 4 5 \n",
      "1 2 3 4 \n",
      "1 2 3 \n",
      "1 2 \n",
      "1 \n"
     ]
    }
   ],
   "source": [
    "no_row = int(input(\"enter the number of rows: \"))\n",
    "for row in range(1, no_row+1 ):\n",
    "    for col in range(1,row+1):\n",
    "        print(col, end = \" \")\n",
    "    print()\n",
    "for row in range(no_row-1 ,0 ,-1):\n",
    "    for col in range(1,row+1):\n",
    "        print(col, end = \" \")\n",
    "    print()"
   ]
  },
  {
   "cell_type": "code",
   "execution_count": 59,
   "id": "1e062809",
   "metadata": {},
   "outputs": [
    {
     "name": "stdout",
     "output_type": "stream",
     "text": [
      "enter the number of rows: 5\n",
      "11 \n",
      "21 22 \n",
      "31 32 33 \n",
      "41 42 43 44 \n",
      "51 52 53 54 55 \n"
     ]
    }
   ],
   "source": [
    "no_row = int(input(\"enter the number of rows: \"))\n",
    "for row in range(1, no_row+1 ):\n",
    "    for col in range(1,row+1):\n",
    "        print(\"{}{}\".format(row, col), end = \" \")\n",
    "    print()"
   ]
  },
  {
   "cell_type": "code",
   "execution_count": 61,
   "id": "8891cdaa",
   "metadata": {},
   "outputs": [
    {
     "name": "stdout",
     "output_type": "stream",
     "text": [
      "enter the number of rows: 5\n",
      "11 \n",
      "12 22 \n",
      "13 23 33 \n",
      "14 24 34 44 \n",
      "15 25 35 45 55 \n"
     ]
    }
   ],
   "source": [
    "no_row = int(input(\"enter the number of rows: \"))\n",
    "for row in range(1, no_row+1 ):\n",
    "    for col in range(1,row+1):\n",
    "        print(\"{}{}\".format(col, row), end = \" \")\n",
    "    print()"
   ]
  },
  {
   "cell_type": "code",
   "execution_count": 63,
   "id": "d5b8eb29",
   "metadata": {},
   "outputs": [
    {
     "name": "stdout",
     "output_type": "stream",
     "text": [
      "enter the number of rows: 5\n",
      "11 \n",
      "21 22 \n",
      "31 32 33 \n",
      "41 42 43 44 \n",
      "51 52 53 54 55 \n",
      "41 42 43 44 \n",
      "31 32 33 \n",
      "21 22 \n",
      "11 \n"
     ]
    }
   ],
   "source": [
    "no_row = int(input(\"enter the number of rows: \"))\n",
    "for row in range(1, no_row+1 ):\n",
    "    for col in range(1,row+1):\n",
    "        print(\"{}{}\".format(row, col), end = \" \")\n",
    "    print()\n",
    "for row in range(no_row-1 ,0 ,-1):\n",
    "    for col in range(1,row+1):\n",
    "        print(\"{}{}\".format(row,col) , end = \" \")\n",
    "    print()"
   ]
  },
  {
   "cell_type": "code",
   "execution_count": 4,
   "id": "04aa21dd",
   "metadata": {},
   "outputs": [
    {
     "name": "stdout",
     "output_type": "stream",
     "text": [
      "enter the number of rows: 5\n",
      "11 \n",
      "12 22 \n",
      "13 23 33 \n",
      "14 24 34 44 \n",
      "15 25 35 45 55 \n",
      "14 24 34 44 \n",
      "13 23 33 \n",
      "12 22 \n",
      "11 \n"
     ]
    }
   ],
   "source": [
    "no_row = int(input(\"enter the number of rows: \"))\n",
    "for row in range(1, no_row+1 ):\n",
    "    for col in range(1,row+1):\n",
    "        print(\"{0}{1}\".format(col, row), end = \" \")\n",
    "    print()\n",
    "for row in range(no_row-1 ,0 ,-1):\n",
    "    for col in range(1,row+1):\n",
    "        print(\"{0}{1}\".format(col , row) , end = \" \")\n",
    "    print()"
   ]
  },
  {
   "cell_type": "code",
   "execution_count": 8,
   "id": "00404fa7",
   "metadata": {},
   "outputs": [
    {
     "name": "stdout",
     "output_type": "stream",
     "text": [
      "enter number of rows: 5\n",
      "A \n",
      "B B \n",
      "C C C \n",
      "D D D D \n",
      "E E E E E \n",
      "D D D D \n",
      "C C C \n",
      "B B \n",
      "A \n"
     ]
    }
   ],
   "source": [
    "no_row = int(input(\"enter number of rows: \"))\n",
    "ch = 64\n",
    "for row in range(1, no_row+1 ):\n",
    "    for col in range(1,row+1):\n",
    "        print(\"{0}\".format(chr(ch+row)), end = \" \")\n",
    "    print()\n",
    "for row in range(no_row-1 ,0 ,-1):\n",
    "    for col in range(1,row+1):\n",
    "        print(\"{0}\".format(chr(ch+row)) , end = \" \")\n",
    "    print()"
   ]
  },
  {
   "cell_type": "code",
   "execution_count": 20,
   "id": "53a1480e",
   "metadata": {},
   "outputs": [
    {
     "name": "stdout",
     "output_type": "stream",
     "text": [
      "enter the number of rows: 5\n",
      "A \n",
      "B C \n",
      "D E F \n",
      "G H I J \n",
      "K L M N O \n"
     ]
    }
   ],
   "source": [
    "no_row = int(input(\"enter the number of rows: \"))\n",
    "ch = 64\n",
    "for row in range(1,no_row +1):\n",
    "    for col in range(1,row+1):\n",
    "        ch = ch+1\n",
    "        print(\"{0}\".format(chr(ch)), end = \" \")\n",
    "    print()"
   ]
  },
  {
   "cell_type": "code",
   "execution_count": 24,
   "id": "c251908c",
   "metadata": {},
   "outputs": [
    {
     "name": "stdout",
     "output_type": "stream",
     "text": [
      "enter the number of rows: 5\n",
      "A \n",
      "B C \n",
      "D E F \n",
      "G H I J \n",
      "K L M N O \n",
      "J I H G \n",
      "F E D \n",
      "C B \n",
      "A \n",
      "\n"
     ]
    }
   ],
   "source": [
    "no_row = int(input(\"enter the number of rows: \"))\n",
    "ch = 64\n",
    "for row in range(1,no_row +1):\n",
    "    for col in range(1,row+1):\n",
    "        ch = ch+1\n",
    "        print(\"{0}\".format(chr(ch)), end = \" \")\n",
    "    print()\n",
    "ch = 75\n",
    "for row in range(no_row ,0 ,-1):\n",
    "    for col in range(1,row):\n",
    "        ch = ch-1\n",
    "        print(\"{0}\".format(chr(ch)), end = \" \")\n",
    "    print()"
   ]
  },
  {
   "cell_type": "code",
   "execution_count": 27,
   "id": "de36f565",
   "metadata": {},
   "outputs": [
    {
     "name": "stdout",
     "output_type": "stream",
     "text": [
      "enter the number of rows: 5\n",
      "01 \n",
      "02 03 \n",
      "04 05 06 \n",
      "07 08 09 10 \n",
      "11 12 13 14 15 \n"
     ]
    }
   ],
   "source": [
    "no_rows = int(input(\"enter the number of rows: \"))\n",
    "sum= 0 \n",
    "for row in range(1,no_row +1):\n",
    "    for col in range(1,row+1):\n",
    "        sum = sum+1\n",
    "        print(\"{:02d}\".format(sum), end = \" \")\n",
    "    print()"
   ]
  },
  {
   "cell_type": "code",
   "execution_count": 36,
   "id": "600421f0",
   "metadata": {},
   "outputs": [
    {
     "name": "stdout",
     "output_type": "stream",
     "text": [
      "enter the nmber of row: 5\n",
      " 1 \n",
      " 2  3 \n",
      " 4  5  6 \n",
      " 7  8  9 10 \n",
      "11 12 13 14 15 \n"
     ]
    }
   ],
   "source": [
    "no_row = int(input(\"enter the nmber of row: \"))\n",
    "sum = 0\n",
    "for row in range(1, no_row+1):\n",
    "    for col in range(1,row+1):\n",
    "        sum = sum +1\n",
    "        print(\"{:2d}\".format(sum), end = \" \" )\n",
    "    print()"
   ]
  },
  {
   "cell_type": "code",
   "execution_count": 41,
   "id": "278842e8",
   "metadata": {},
   "outputs": [
    {
     "name": "stdout",
     "output_type": "stream",
     "text": [
      "enter the nmber of row: 5\n",
      "01 \n",
      "02 03 \n",
      "04 05 06 \n",
      "07 08 09 10 \n",
      "11 12 13 14 15 \n",
      "14 13 12 11 10 \n",
      "09 08 07 06 \n",
      "05 04 03 \n",
      "02 01 \n",
      "00 \n"
     ]
    }
   ],
   "source": [
    "no_row = int(input(\"enter the nmber of row: \"))\n",
    "sum = 0\n",
    "for row in range(1, no_row+1):\n",
    "    for col in range(1,row+1):\n",
    "        sum = sum +1\n",
    "        print(\"{:02d}\".format(sum), end = \" \" )\n",
    "    print()\n",
    "sum = 15\n",
    "for row in range(no_row, 0 , -1):\n",
    "    for col in range(1,row+1):\n",
    "        sum = sum -1\n",
    "        print(\"{:02d}\".format(sum), end = \" \")\n",
    "    print()"
   ]
  },
  {
   "cell_type": "code",
   "execution_count": 8,
   "id": "dd72514c",
   "metadata": {},
   "outputs": [
    {
     "name": "stdout",
     "output_type": "stream",
     "text": [
      " ** ** \n",
      "*  *  *\n",
      "*     *\n",
      " *   * \n",
      "  * *  \n",
      "   *   \n"
     ]
    }
   ],
   "source": [
    "for row in range(6):\n",
    "    for col in range(7):\n",
    "        if (row ==0 and (col%3 !=0) or (row ==1 and (col%3 ==0)) or (row - col ==2) or (row + col == 8)):\n",
    "            print(\"*\", end=\"\")\n",
    "        else:\n",
    "            print(end= \" \")\n",
    "    print()\n"
   ]
  },
  {
   "cell_type": "code",
   "execution_count": 12,
   "id": "dbe04c08",
   "metadata": {},
   "outputs": [
    {
     "name": "stdout",
     "output_type": "stream",
     "text": [
      "* * * * \n",
      "* * * * \n",
      "* * * * \n",
      "* * * * \n"
     ]
    }
   ],
   "source": [
    "row = 4 \n",
    "for i in range(1,row+1):\n",
    "    for j in range(1,row+1):\n",
    "        print(\"*\", end = \" \")\n",
    "    print()"
   ]
  },
  {
   "cell_type": "code",
   "execution_count": null,
   "id": "17fd7f9c",
   "metadata": {},
   "outputs": [],
   "source": []
  }
 ],
 "metadata": {
  "kernelspec": {
   "display_name": "Python 3 (ipykernel)",
   "language": "python",
   "name": "python3"
  },
  "language_info": {
   "codemirror_mode": {
    "name": "ipython",
    "version": 3
   },
   "file_extension": ".py",
   "mimetype": "text/x-python",
   "name": "python",
   "nbconvert_exporter": "python",
   "pygments_lexer": "ipython3",
   "version": "3.9.13"
  }
 },
 "nbformat": 4,
 "nbformat_minor": 5
}
