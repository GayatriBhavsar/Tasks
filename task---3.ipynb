{
 "cells": [
  {
   "cell_type": "code",
   "execution_count": null,
   "id": "21c117ef",
   "metadata": {},
   "outputs": [],
   "source": [
    "q1 :\n",
    "ineruon \n",
    "ineruon ineruon \n",
    "ineruon ineruon ineruon\n",
    "ineruon ineruon ineruon ineruon\n",
    "\n",
    "q2 - \n",
    "\n",
    "          ineruon\n",
    "    ineruon      ineruon\n",
    "ineruon\t\tineruon \tineruon\n",
    "\tineruon\t\t ineruon\n",
    "\t\t  ineruon\n",
    "\n",
    "l = [[1,2,3,4] , (2,3,4,5,6) , (3,4,5,6,7) , set([23,4,5,45,4,4,5,45,45,4,5]) , {'k1' :\"sudh\" , \"k2\" : \"ineuron\",\"k3\":\n",
    "            \"kumar\" , 3:6 , 7:8} , [\"ineuron\" , \"data science \"]]\n",
    "\n",
    "q3 : Try to extract all the list entity \n",
    "q4 : Try to extract all the dict enteties\n",
    "q5 : Try to extract all the tuples entities\n",
    "q6 : Try to extract all the numerical data it may b a part of dict key and values \n",
    "q7 : Try to give summation of all the numeric data \n",
    "q8 : Try to filter out all the odd values out all numeric data which is a part of a list \n",
    "q9 : Try to extract \"ineruon\" out of this data\n",
    "q10 :Try to find out a number of occurances of all the data \n",
    "q11 : Try to find out number of keys in dict element\n",
    "q12 : Try to filter out all the string data \n",
    "q13 : Try to Find  out alphanum in data\n",
    "q14 : Try to find out multiplication of all numeric value in  the individual collection inside dataset \n",
    "q15 : Try to unwrape all the collection inside collection and create a flat list \n",
    "    \n",
    "    \n",
    "before 29th may 2022 3 PM IST you have to send an answer to me or to shivan \n",
    "sudhanshu@ineuron.ai\n",
    "shivan@ineuron.ai"
   ]
  },
  {
   "cell_type": "code",
   "execution_count": null,
   "id": "861ca82d",
   "metadata": {},
   "outputs": [],
   "source": [
    "q1 :\n",
    "ineruon \n",
    "ineruon ineruon \n",
    "ineruon ineruon ineruon\n",
    "ineruon ineruon ineruon ineruon"
   ]
  },
  {
   "cell_type": "code",
   "execution_count": 2,
   "id": "83894474",
   "metadata": {},
   "outputs": [
    {
     "name": "stdout",
     "output_type": "stream",
     "text": [
      "ineuron \n",
      "ineuron ineuron \n",
      "ineuron ineuron ineuron \n",
      "ineuron ineuron ineuron ineuron \n"
     ]
    }
   ],
   "source": [
    "rows = 4\n",
    "for i in range(1,rows+1):\n",
    "    for  j in range(i):\n",
    "        print(\"ineuron\", end = \" \")\n",
    "    print()"
   ]
  },
  {
   "cell_type": "code",
   "execution_count": null,
   "id": "52dde0b2",
   "metadata": {},
   "outputs": [],
   "source": [
    "q2 - \n",
    "\n",
    "          ineruon\n",
    "    ineruon      ineruon\n",
    "ineruon\t\tineruon \tineruon\n",
    "\tineruon\t\t ineruon\n",
    "\t\t  ineruon"
   ]
  },
  {
   "cell_type": "code",
   "execution_count": 27,
   "id": "7235bce2",
   "metadata": {},
   "outputs": [
    {
     "name": "stdout",
     "output_type": "stream",
     "text": [
      "                ineuron                 \n",
      "        ineuron         ineuron         \n",
      "ineuron         ineuron         ineuron \n",
      "        ineuron         ineuron         \n",
      "                ineuron                 \n"
     ]
    }
   ],
   "source": [
    "rows = 5\n",
    "col =  5\n",
    "for row in range(1,rows+1):\n",
    "    for col in range(1,col+1):\n",
    "        if ((row%2 != 0 ) and (col%3 ==0)) or ((row%2 == 0) and (col%2 ==0)) or (row%3 ==0 and col%2 !=0):\n",
    "            print(\"ineuron\" , end = \" \")\n",
    "        else:\n",
    "            print(\" \"* len(\"ineuron\"), end = \" \")\n",
    "       \n",
    "    print()"
   ]
  },
  {
   "cell_type": "code",
   "execution_count": 17,
   "id": "65971940",
   "metadata": {},
   "outputs": [
    {
     "data": {
      "text/plain": [
       "range(1, 6)"
      ]
     },
     "execution_count": 17,
     "metadata": {},
     "output_type": "execute_result"
    }
   ],
   "source": [
    "rows = 5\n",
    "range(1,rows+1)"
   ]
  },
  {
   "cell_type": "code",
   "execution_count": 1,
   "id": "fd8e0be0",
   "metadata": {},
   "outputs": [],
   "source": [
    "l = [[1,2,3,4] , (2,3,4,5,6) , (3,4,5,6,7) , set([23,4,5,45,4,4,5,45,45,4,5]) , {'k1' :\"sudh\" , \"k2\" : \"ineuron\",\"k3\":\n",
    "            \"kumar\" , 3:6 , 7:8} , [\"ineuron\" , \"data science \"]]"
   ]
  },
  {
   "cell_type": "code",
   "execution_count": null,
   "id": "558b23d4",
   "metadata": {},
   "outputs": [],
   "source": [
    "q3 : Try to extract all the list entity "
   ]
  },
  {
   "cell_type": "code",
   "execution_count": 5,
   "id": "2b70d28e",
   "metadata": {},
   "outputs": [
    {
     "data": {
      "text/plain": [
       "[[1, 2, 3, 4],\n",
       " (2, 3, 4, 5, 6),\n",
       " (3, 4, 5, 6, 7),\n",
       " {4, 5, 23, 45},\n",
       " {'k1': 'sudh', 'k2': 'ineuron', 'k3': 'kumar', 3: 6, 7: 8},\n",
       " ['ineuron', 'data science ']]"
      ]
     },
     "execution_count": 5,
     "metadata": {},
     "output_type": "execute_result"
    }
   ],
   "source": [
    "l"
   ]
  },
  {
   "cell_type": "code",
   "execution_count": 6,
   "id": "af398684",
   "metadata": {},
   "outputs": [
    {
     "name": "stdout",
     "output_type": "stream",
     "text": [
      "[1, 2, 3, 4]\n",
      "['ineuron', 'data science ']\n"
     ]
    }
   ],
   "source": [
    "for i in l:\n",
    "    if type(i) == list:\n",
    "        print(i)"
   ]
  },
  {
   "cell_type": "code",
   "execution_count": null,
   "id": "95fc64b3",
   "metadata": {},
   "outputs": [],
   "source": [
    "q4 : Try to extract all the dict enteties"
   ]
  },
  {
   "cell_type": "code",
   "execution_count": 7,
   "id": "7d40d0ca",
   "metadata": {},
   "outputs": [
    {
     "name": "stdout",
     "output_type": "stream",
     "text": [
      "{'k1': 'sudh', 'k2': 'ineuron', 'k3': 'kumar', 3: 6, 7: 8}\n"
     ]
    }
   ],
   "source": [
    "for i in l:\n",
    "    if type(i) == dict:\n",
    "        print(i)"
   ]
  },
  {
   "cell_type": "code",
   "execution_count": null,
   "id": "dd762651",
   "metadata": {},
   "outputs": [],
   "source": [
    "q5 : Try to extract all the tuples entities"
   ]
  },
  {
   "cell_type": "code",
   "execution_count": 8,
   "id": "5c30d8f9",
   "metadata": {},
   "outputs": [
    {
     "name": "stdout",
     "output_type": "stream",
     "text": [
      "(2, 3, 4, 5, 6)\n",
      "(3, 4, 5, 6, 7)\n"
     ]
    }
   ],
   "source": [
    "for i in l:\n",
    "    if type(i) == tuple:\n",
    "        print(i)"
   ]
  },
  {
   "cell_type": "code",
   "execution_count": null,
   "id": "889c4e3f",
   "metadata": {},
   "outputs": [],
   "source": [
    "q6 : Try to extract all the numerical data it may b a part of dict key and values "
   ]
  },
  {
   "cell_type": "code",
   "execution_count": 14,
   "id": "88c36ed2",
   "metadata": {},
   "outputs": [],
   "source": [
    "l2 = []\n",
    "for i in l:\n",
    "    if type(i) == list or type(i) == tuple or type(i) == set:\n",
    "        for j in i:\n",
    "            if type(j) == int:\n",
    "                #print(j)\n",
    "                l2.append(j)\n",
    "    if type(i) == dict:\n",
    "        for j , k in i.items():\n",
    "            if type(j) == int:\n",
    "                l2.append(j)\n",
    "                #print(j)\n",
    "            if type(k) == int:\n",
    "                l2.append(k)\n",
    "                #print(k)"
   ]
  },
  {
   "cell_type": "code",
   "execution_count": 15,
   "id": "4790de0d",
   "metadata": {},
   "outputs": [
    {
     "data": {
      "text/plain": [
       "[1, 2, 3, 4, 2, 3, 4, 5, 6, 3, 4, 5, 6, 7, 45, 4, 5, 23, 3, 6, 7, 8]"
      ]
     },
     "execution_count": 15,
     "metadata": {},
     "output_type": "execute_result"
    }
   ],
   "source": [
    "l2"
   ]
  },
  {
   "cell_type": "code",
   "execution_count": null,
   "id": "52d68eab",
   "metadata": {},
   "outputs": [],
   "source": [
    "q7 : Try to give summation of all the numeric data "
   ]
  },
  {
   "cell_type": "code",
   "execution_count": 16,
   "id": "f71ffa31",
   "metadata": {},
   "outputs": [
    {
     "name": "stdout",
     "output_type": "stream",
     "text": [
      "156\n"
     ]
    }
   ],
   "source": [
    "sum = 0\n",
    "for i in l2:\n",
    "    sum  = sum + i\n",
    "print(sum)"
   ]
  },
  {
   "cell_type": "code",
   "execution_count": null,
   "id": "0a9fd4aa",
   "metadata": {},
   "outputs": [],
   "source": [
    "q8 : Try to filter out all the odd values out all numeric data which is a part of a list "
   ]
  },
  {
   "cell_type": "code",
   "execution_count": 2,
   "id": "6604fea1",
   "metadata": {},
   "outputs": [
    {
     "data": {
      "text/plain": [
       "[[1, 2, 3, 4],\n",
       " (2, 3, 4, 5, 6),\n",
       " (3, 4, 5, 6, 7),\n",
       " {4, 5, 23, 45},\n",
       " {'k1': 'sudh', 'k2': 'ineuron', 'k3': 'kumar', 3: 6, 7: 8},\n",
       " ['ineuron', 'data science ']]"
      ]
     },
     "execution_count": 2,
     "metadata": {},
     "output_type": "execute_result"
    }
   ],
   "source": [
    "l"
   ]
  },
  {
   "cell_type": "code",
   "execution_count": 3,
   "id": "9bc202bf",
   "metadata": {},
   "outputs": [
    {
     "name": "stdout",
     "output_type": "stream",
     "text": [
      "1\n",
      "2\n",
      "3\n",
      "4\n"
     ]
    }
   ],
   "source": [
    "for i in l:\n",
    "    if type(i) == list:\n",
    "        for j in i:\n",
    "            if type(j) == int:\n",
    "                print(j)"
   ]
  },
  {
   "cell_type": "code",
   "execution_count": null,
   "id": "cca84970",
   "metadata": {},
   "outputs": [],
   "source": [
    "q9 : Try to extract \"ineruon\" out of this data"
   ]
  },
  {
   "cell_type": "code",
   "execution_count": 5,
   "id": "697c7b20",
   "metadata": {},
   "outputs": [
    {
     "name": "stdout",
     "output_type": "stream",
     "text": [
      "ineuron\n",
      "ineuron\n"
     ]
    }
   ],
   "source": [
    "for i in l:\n",
    "    if type(i) == list or type(i) == tuple or type(i) ==set:\n",
    "        for j in i:\n",
    "            if j == \"ineuron\":\n",
    "                print(j)\n",
    "    if type(i)  == dict:\n",
    "        for k, v in i.items():\n",
    "            if k == \"ineuron\":\n",
    "                print(k)\n",
    "            if v == \"ineuron\":\n",
    "                print(v)"
   ]
  },
  {
   "cell_type": "code",
   "execution_count": null,
   "id": "a450439c",
   "metadata": {},
   "outputs": [],
   "source": [
    "q10 :Try to find out a number of occurances of all the data "
   ]
  },
  {
   "cell_type": "code",
   "execution_count": 21,
   "id": "43888880",
   "metadata": {},
   "outputs": [
    {
     "data": {
      "text/plain": [
       "[[1, 2, 3, 4],\n",
       " (2, 3, 4, 5, 6),\n",
       " (3, 4, 5, 6, 7),\n",
       " {4, 5, 23, 45},\n",
       " {'k1': 'sudh', 'k2': 'ineuron', 'k3': 'kumar', 3: 6, 7: 8},\n",
       " ['ineuron', 'data science ']]"
      ]
     },
     "execution_count": 21,
     "metadata": {},
     "output_type": "execute_result"
    }
   ],
   "source": [
    "l"
   ]
  },
  {
   "cell_type": "code",
   "execution_count": 34,
   "id": "5e66e895",
   "metadata": {},
   "outputs": [
    {
     "data": {
      "text/plain": [
       "[1,\n",
       " 2,\n",
       " 3,\n",
       " 4,\n",
       " 2,\n",
       " 3,\n",
       " 4,\n",
       " 5,\n",
       " 6,\n",
       " 3,\n",
       " 4,\n",
       " 5,\n",
       " 6,\n",
       " 7,\n",
       " 45,\n",
       " 4,\n",
       " 5,\n",
       " 23,\n",
       " 'k1',\n",
       " 'sudh',\n",
       " 'k2',\n",
       " 'ineuron',\n",
       " 'k3',\n",
       " 'kumar',\n",
       " 3,\n",
       " 6,\n",
       " 7,\n",
       " 8,\n",
       " 'ineuron',\n",
       " 'data science ']"
      ]
     },
     "execution_count": 34,
     "metadata": {},
     "output_type": "execute_result"
    }
   ],
   "source": [
    "l3 = []\n",
    "for i in l:\n",
    "    if type(i) == list or type(i) == tuple or type(i) ==set:\n",
    "            for  j in i:\n",
    "                l3.append(j)\n",
    "    if type(i) == dict:\n",
    "        for k,v in i.items():\n",
    "            l3.append(k)\n",
    "            l3.append(v)\n",
    "    \n",
    "        \n",
    "l3"
   ]
  },
  {
   "cell_type": "code",
   "execution_count": 13,
   "id": "64208cdd",
   "metadata": {},
   "outputs": [
    {
     "name": "stdout",
     "output_type": "stream",
     "text": [
      "1 : 1\n",
      "2 : 2\n",
      "3 : 4\n",
      "4 : 4\n",
      "5 : 3\n",
      "6 : 3\n",
      "7 : 2\n",
      "k3 : 1\n",
      "8 : 1\n",
      "ineuron : 2\n",
      "45 : 1\n",
      "sudh : 1\n",
      "k2 : 1\n",
      "kumar : 1\n",
      "23 : 1\n",
      "data science  : 1\n",
      "k1 : 1\n"
     ]
    }
   ],
   "source": [
    "for i in set(l3):\n",
    "    print(i , \":\" , l3.count(i))"
   ]
  },
  {
   "cell_type": "code",
   "execution_count": null,
   "id": "9d87b8c4",
   "metadata": {},
   "outputs": [],
   "source": [
    "q11 : Try to find out number of keys in dict element"
   ]
  },
  {
   "cell_type": "code",
   "execution_count": 25,
   "id": "e87e83a9",
   "metadata": {},
   "outputs": [
    {
     "data": {
      "text/plain": [
       "[[1, 2, 3, 4],\n",
       " (2, 3, 4, 5, 6),\n",
       " (3, 4, 5, 6, 7),\n",
       " {4, 5, 23, 45},\n",
       " {'k1': 'sudh', 'k2': 'ineuron', 'k3': 'kumar', 3: 6, 7: 8},\n",
       " ['ineuron', 'data science ']]"
      ]
     },
     "execution_count": 25,
     "metadata": {},
     "output_type": "execute_result"
    }
   ],
   "source": [
    "l"
   ]
  },
  {
   "cell_type": "code",
   "execution_count": 31,
   "id": "04ef79be",
   "metadata": {},
   "outputs": [
    {
     "name": "stdout",
     "output_type": "stream",
     "text": [
      "k1\n",
      "k2\n",
      "k3\n",
      "3\n",
      "7\n",
      "countof keys :  5\n"
     ]
    }
   ],
   "source": [
    "count = 0\n",
    "for  i in l:\n",
    "    if type(i) == dict:\n",
    "        for j in i:\n",
    "            count =count + 1\n",
    "            print(j)\n",
    "print(\"countof keys : \", count)\n",
    "    \n"
   ]
  },
  {
   "cell_type": "code",
   "execution_count": null,
   "id": "8a354a99",
   "metadata": {},
   "outputs": [],
   "source": [
    "q12 : Try to filter out all the string data "
   ]
  },
  {
   "cell_type": "code",
   "execution_count": 35,
   "id": "ba750e01",
   "metadata": {},
   "outputs": [
    {
     "data": {
      "text/plain": [
       "[1,\n",
       " 2,\n",
       " 3,\n",
       " 4,\n",
       " 2,\n",
       " 3,\n",
       " 4,\n",
       " 5,\n",
       " 6,\n",
       " 3,\n",
       " 4,\n",
       " 5,\n",
       " 6,\n",
       " 7,\n",
       " 45,\n",
       " 4,\n",
       " 5,\n",
       " 23,\n",
       " 'k1',\n",
       " 'sudh',\n",
       " 'k2',\n",
       " 'ineuron',\n",
       " 'k3',\n",
       " 'kumar',\n",
       " 3,\n",
       " 6,\n",
       " 7,\n",
       " 8,\n",
       " 'ineuron',\n",
       " 'data science ']"
      ]
     },
     "execution_count": 35,
     "metadata": {},
     "output_type": "execute_result"
    }
   ],
   "source": [
    "l3"
   ]
  },
  {
   "cell_type": "code",
   "execution_count": 36,
   "id": "ed55feeb",
   "metadata": {},
   "outputs": [
    {
     "name": "stdout",
     "output_type": "stream",
     "text": [
      "k1\n",
      "sudh\n",
      "k2\n",
      "ineuron\n",
      "k3\n",
      "kumar\n",
      "ineuron\n",
      "data science \n"
     ]
    }
   ],
   "source": [
    "for i in l3:\n",
    "    if type(i) == str:\n",
    "        print(i)\n",
    "       "
   ]
  },
  {
   "cell_type": "code",
   "execution_count": null,
   "id": "7d1078eb",
   "metadata": {},
   "outputs": [],
   "source": [
    "q13 : Try to Find  out alphanum in data"
   ]
  },
  {
   "cell_type": "code",
   "execution_count": 57,
   "id": "9918e66a",
   "metadata": {},
   "outputs": [
    {
     "name": "stdout",
     "output_type": "stream",
     "text": [
      "['k1', 'k2', 'k3', 'data science ']\n"
     ]
    }
   ],
   "source": [
    "l4 = []\n",
    "for i in l3:\n",
    "    if type(i) == str:\n",
    "        l4.append(i)\n",
    "        \n",
    "print([i for i in l4 if not i.isalpha()])\n",
    "   "
   ]
  },
  {
   "cell_type": "code",
   "execution_count": 54,
   "id": "85264299",
   "metadata": {},
   "outputs": [
    {
     "name": "stdout",
     "output_type": "stream",
     "text": [
      "['h_ello', \"how're\", '@list']\n"
     ]
    }
   ],
   "source": [
    "mylist=[\"hi\", \"h_ello\", \"how're\", \"you\", \"@list\"]\n",
    "print([i for i in mylist if not i.isalpha()])"
   ]
  },
  {
   "cell_type": "code",
   "execution_count": null,
   "id": "120bc1b3",
   "metadata": {},
   "outputs": [],
   "source": [
    "q14 : Try to find out multiplication of all numeric value in  the individual collection inside dataset "
   ]
  },
  {
   "cell_type": "code",
   "execution_count": 58,
   "id": "a0fa9647",
   "metadata": {},
   "outputs": [
    {
     "data": {
      "text/plain": [
       "[[1, 2, 3, 4],\n",
       " (2, 3, 4, 5, 6),\n",
       " (3, 4, 5, 6, 7),\n",
       " {4, 5, 23, 45},\n",
       " {'k1': 'sudh', 'k2': 'ineuron', 'k3': 'kumar', 3: 6, 7: 8},\n",
       " ['ineuron', 'data science ']]"
      ]
     },
     "execution_count": 58,
     "metadata": {},
     "output_type": "execute_result"
    }
   ],
   "source": [
    "l\n",
    "    "
   ]
  },
  {
   "cell_type": "code",
   "execution_count": 84,
   "id": "5a4f43e4",
   "metadata": {},
   "outputs": [
    {
     "name": "stdout",
     "output_type": "stream",
     "text": [
      "24\n",
      "720\n",
      "2520\n",
      "20700\n",
      "21\n",
      "48\n"
     ]
    }
   ],
   "source": [
    "mul = 1\n",
    "for i in l:\n",
    "    if type(i) == list:\n",
    "        for j in i:\n",
    "            if type(j) == int:\n",
    "                mul = mul * j\n",
    "print(mul)\n",
    "mul = 1\n",
    "for i in l:\n",
    "    if type(i) == tuple:\n",
    "        mul = 1\n",
    "        for j in i:\n",
    "            if type(j) == int:\n",
    "                mul = mul * j\n",
    "        print(mul) \n",
    "mul =1\n",
    "for i in l:\n",
    "    if type(i) == set:\n",
    "        mul = 1\n",
    "        for j in i:\n",
    "            if type(j) == int:\n",
    "                mul = mul * j\n",
    "        print(mul)\n",
    "muld = 1\n",
    "mulv = 1\n",
    "for i in l:\n",
    "    if type(i) == dict:\n",
    "        for k,v in i.items():\n",
    "            if type(k) == int:\n",
    "                muld = muld * k\n",
    "            if type(v) == int:\n",
    "                mulv = mulv *v\n",
    "        print(muld)\n",
    "        print(mulv)"
   ]
  },
  {
   "cell_type": "code",
   "execution_count": 65,
   "id": "15387e5e",
   "metadata": {},
   "outputs": [
    {
     "data": {
      "text/plain": [
       "720"
      ]
     },
     "execution_count": 65,
     "metadata": {},
     "output_type": "execute_result"
    }
   ],
   "source": [
    "(2* 3* 4* 5* 6)"
   ]
  },
  {
   "cell_type": "code",
   "execution_count": 66,
   "id": "2648220a",
   "metadata": {},
   "outputs": [
    {
     "data": {
      "text/plain": [
       "2520"
      ]
     },
     "execution_count": 66,
     "metadata": {},
     "output_type": "execute_result"
    }
   ],
   "source": [
    "3* 4* 5* 6* 7"
   ]
  },
  {
   "cell_type": "code",
   "execution_count": 69,
   "id": "3dcb20bf",
   "metadata": {},
   "outputs": [
    {
     "data": {
      "text/plain": [
       "20700"
      ]
     },
     "execution_count": 69,
     "metadata": {},
     "output_type": "execute_result"
    }
   ],
   "source": [
    "4* 5* 23* 45"
   ]
  },
  {
   "cell_type": "code",
   "execution_count": null,
   "id": "66521874",
   "metadata": {},
   "outputs": [],
   "source": [
    "q15 : Try to unwrape all the collection inside collection and create a flat list"
   ]
  },
  {
   "cell_type": "code",
   "execution_count": 78,
   "id": "9aa18cd4",
   "metadata": {},
   "outputs": [
    {
     "data": {
      "text/plain": [
       "[1,\n",
       " 2,\n",
       " 3,\n",
       " 4,\n",
       " 2,\n",
       " 3,\n",
       " 4,\n",
       " 5,\n",
       " 6,\n",
       " 3,\n",
       " 4,\n",
       " 5,\n",
       " 6,\n",
       " 7,\n",
       " 45,\n",
       " 4,\n",
       " 5,\n",
       " 23,\n",
       " 'k1',\n",
       " 'sudh',\n",
       " 'k2',\n",
       " 'ineuron',\n",
       " 'k3',\n",
       " 'kumar',\n",
       " 3,\n",
       " 6,\n",
       " 7,\n",
       " 8,\n",
       " 'ineuron',\n",
       " 'data science ']"
      ]
     },
     "execution_count": 78,
     "metadata": {},
     "output_type": "execute_result"
    }
   ],
   "source": [
    "l3 = []\n",
    "for i in l:\n",
    "    if type(i) == list or type(i) == tuple or type(i) ==set:\n",
    "            for  j in i:\n",
    "                l3.append(j)\n",
    "    if type(i) == dict:\n",
    "        for k,v in i.items():\n",
    "            l3.append(k)\n",
    "            l3.append(v)\n",
    "    \n",
    "        \n",
    "l3"
   ]
  },
  {
   "cell_type": "code",
   "execution_count": null,
   "id": "16ea1ee7",
   "metadata": {},
   "outputs": [],
   "source": []
  }
 ],
 "metadata": {
  "kernelspec": {
   "display_name": "Python 3 (ipykernel)",
   "language": "python",
   "name": "python3"
  },
  "language_info": {
   "codemirror_mode": {
    "name": "ipython",
    "version": 3
   },
   "file_extension": ".py",
   "mimetype": "text/x-python",
   "name": "python",
   "nbconvert_exporter": "python",
   "pygments_lexer": "ipython3",
   "version": "3.9.13"
  }
 },
 "nbformat": 4,
 "nbformat_minor": 5
}
